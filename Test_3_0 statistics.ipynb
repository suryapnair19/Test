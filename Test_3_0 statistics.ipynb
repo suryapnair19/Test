{
 "cells": [
  {
   "cell_type": "markdown",
   "id": "a2d03c1b-3b7f-4e29-aed5-fe7c3c93a61c",
   "metadata": {
    "id": "a2d03c1b-3b7f-4e29-aed5-fe7c3c93a61c"
   },
   "source": [
    "# Statistics Test 2.0"
   ]
  },
  {
   "cell_type": "markdown",
   "id": "eacdfe41-4c50-4a8d-8af9-25d78ccbab02",
   "metadata": {
    "id": "eacdfe41-4c50-4a8d-8af9-25d78ccbab02"
   },
   "source": [
    "Time - 1.30 Hr\n",
    "\n",
    "\n",
    "Total Marks = 60\n",
    "\n"
   ]
  },
  {
   "cell_type": "markdown",
   "id": "-h45Y-7UcYVW",
   "metadata": {
    "id": "-h45Y-7UcYVW"
   },
   "source": [
    "**MCQ**"
   ]
  },
  {
   "cell_type": "markdown",
   "id": "-0TTQIaXcLJF",
   "metadata": {
    "id": "-0TTQIaXcLJF"
   },
   "source": [
    "**Which of the following is a measure of central tendency?**\n",
    "\n",
    "    A) Variance\n",
    "    B) Standard Deviation\n",
    "    C) Mean\n",
    "    D) Range\n",
    "   "
   ]
  },
  {
   "cell_type": "markdown",
   "id": "a3d78f5b",
   "metadata": {},
   "source": [
    "C. Mean"
   ]
  },
  {
   "cell_type": "markdown",
   "id": "YEex8H5ocLLr",
   "metadata": {
    "id": "YEex8H5ocLLr"
   },
   "source": [
    "**In a dataset with values [2, 4, 4, 6, 8], what is the median?**\n",
    "\n",
    "    A) 4\n",
    "    B) 4.5\n",
    "    C) 6\n",
    "    D) 8"
   ]
  },
  {
   "cell_type": "code",
   "execution_count": 1,
   "id": "a1993cae",
   "metadata": {},
   "outputs": [
    {
     "name": "stdout",
     "output_type": "stream",
     "text": [
      "4\n"
     ]
    }
   ],
   "source": [
    "import statistics as st\n",
    "x = [2,4,4,6,8]\n",
    "print(st.median(x))"
   ]
  },
  {
   "cell_type": "markdown",
   "id": "NLR39gAncLNz",
   "metadata": {
    "id": "NLR39gAncLNz"
   },
   "source": [
    "**Inferential statistics are used to:**\n",
    "\n",
    "    A) Describe the data's central tendency\n",
    "    B) Summarize the data\n",
    "    C) Make predictions or inferences about a population based on a sample\n",
    "    D) Visualize the data"
   ]
  },
  {
   "cell_type": "markdown",
   "id": "38355bd8",
   "metadata": {},
   "source": [
    "C) Make predictions or inferences about a population based on a sample"
   ]
  },
  {
   "cell_type": "markdown",
   "id": "gxSeoRancLP9",
   "metadata": {
    "id": "gxSeoRancLP9"
   },
   "source": [
    "**What does a confidence interval represent?**\n",
    "\n",
    "    A) The range within which the population mean is expected to fall with a certain probability\n",
    "    B) The exact value of the population mean\n",
    "    C) The variability within the sample\n",
    "    D) The number of samples required"
   ]
  },
  {
   "cell_type": "code",
   "execution_count": null,
   "id": "7e7fd5b9",
   "metadata": {},
   "outputs": [],
   "source": [
    "A) The range within which the population mean is expected to fall with a certain probability"
   ]
  },
  {
   "cell_type": "markdown",
   "id": "8VcnEmX9cLSM",
   "metadata": {
    "id": "8VcnEmX9cLSM"
   },
   "source": [
    "**According to the Central Limit Theorem, as the sample size increases, the distribution of the sample mean:**\n",
    "\n",
    "    A) Becomes skewed\n",
    "    B) Approaches a normal distribution\n",
    "    C) Remains uniform\n",
    "    D) Becomes bimodal"
   ]
  },
  {
   "cell_type": "code",
   "execution_count": null,
   "id": "a9a782b8",
   "metadata": {},
   "outputs": [],
   "source": [
    "B) Approaches a normal distribution"
   ]
  },
  {
   "cell_type": "markdown",
   "id": "mQAz26m_cLUq",
   "metadata": {
    "id": "mQAz26m_cLUq"
   },
   "source": [
    "**The Central Limit Theorem is important because:**\n",
    "\n",
    "    A) It helps in defining the exact population distribution\n",
    "    B) It allows for the use of normal distribution to make inferences about sample means\n",
    "    C) It eliminates the need for sampling\n",
    "    D) It ensures sample sizes are always large"
   ]
  },
  {
   "cell_type": "code",
   "execution_count": null,
   "id": "d6e5a2ab",
   "metadata": {},
   "outputs": [],
   "source": [
    "B) It allows for the use of normal distribution to make inferences about sample means"
   ]
  },
  {
   "cell_type": "markdown",
   "id": "F1T_g8pgcLWv",
   "metadata": {
    "id": "F1T_g8pgcLWv"
   },
   "source": [
    "**ANOVA is used to test:**\n",
    "\n",
    "    A) The association between two categorical variables\n",
    "    B) The differences between means of three or more groups\n",
    "    C) The proportion of a sample\n",
    "    D) The correlation between two continuous variables"
   ]
  },
  {
   "cell_type": "code",
   "execution_count": null,
   "id": "8b643fef",
   "metadata": {},
   "outputs": [],
   "source": [
    "B) The differences between means of three or more groups"
   ]
  },
  {
   "cell_type": "markdown",
   "id": "MXX8Exw3dBzd",
   "metadata": {
    "id": "MXX8Exw3dBzd"
   },
   "source": [
    "**A p-value less than 0.05 in an ANOVA test indicates:**\n",
    "\n",
    "    A) There is no significant difference between group means\n",
    "    B) The means of at least one group are significantly different from others\n",
    "    C) The variances within groups are equal\n",
    "    D) The sample size is too small"
   ]
  },
  {
   "cell_type": "markdown",
   "id": "348c45da",
   "metadata": {},
   "source": [
    "A) There is no significant difference between group means"
   ]
  },
  {
   "cell_type": "markdown",
   "id": "T5dE7-GIdB14",
   "metadata": {
    "id": "T5dE7-GIdB14"
   },
   "source": [
    "**The chi-square test of independence assesses:**\n",
    "\n",
    "    A) If two continuous variables are related\n",
    "    B) The goodness-of-fit of a model\n",
    "    C) The association between two categorical variables\n",
    "    D) The variance of a single variable"
   ]
  },
  {
   "cell_type": "code",
   "execution_count": null,
   "id": "41719933",
   "metadata": {},
   "outputs": [],
   "source": [
    " C) The association between two categorical variables"
   ]
  },
  {
   "cell_type": "markdown",
   "id": "TbkJYhyNdIa0",
   "metadata": {
    "id": "TbkJYhyNdIa0"
   },
   "source": [
    "**The two-sample t-test assumes:**\n",
    "\n",
    "    A) Equal variances between the two groups\n",
    "    B) Unequal variances between the two groups\n",
    "    C) No assumption about variances\n",
    "    D) The samples are paired"
   ]
  },
  {
   "cell_type": "code",
   "execution_count": null,
   "id": "36c4fefe",
   "metadata": {},
   "outputs": [],
   "source": [
    "A) equal variance between the two groups"
   ]
  },
  {
   "cell_type": "markdown",
   "id": "6b85eac4-9fa5-4a6e-8944-31cfdb85b1f7",
   "metadata": {
    "id": "6b85eac4-9fa5-4a6e-8944-31cfdb85b1f7"
   },
   "source": [
    "# Python Basic Exercise\n",
    "\n",
    "### Solve any three"
   ]
  },
  {
   "cell_type": "markdown",
   "id": "daf26a58-0326-40aa-bdb6-8d765abaa5e8",
   "metadata": {
    "id": "daf26a58-0326-40aa-bdb6-8d765abaa5e8"
   },
   "source": [
    "Que 1 -> You have a list a=[1,2,3,6,9,7,4,5,8], and you have to find the kth element from the list. This means I want to find the 2nd largest number from the list. Similarly, you have to create a function where I pass a number, say 4, and the function will return the 4th largest number from the list."
   ]
  },
  {
   "cell_type": "code",
   "execution_count": 2,
   "id": "6f85b635-779f-4c1f-be25-fed8ad6ca5b0",
   "metadata": {
    "id": "6f85b635-779f-4c1f-be25-fed8ad6ca5b0"
   },
   "outputs": [
    {
     "name": "stdout",
     "output_type": "stream",
     "text": [
      "2nd largest is  8\n"
     ]
    }
   ],
   "source": [
    "def k_large(nums, k):\n",
    "    nums.sort(reverse=True)\n",
    "    return nums[k - 1]\n",
    "a = [1, 2, 3, 6, 9, 7, 4, 5, 8]\n",
    "k = 2\n",
    "print(\"2nd largest is \",k_large(a,k))"
   ]
  },
  {
   "cell_type": "markdown",
   "id": "bb4ffbe7-2bd2-47fe-be13-41ce39dde5a7",
   "metadata": {
    "id": "bb4ffbe7-2bd2-47fe-be13-41ce39dde5a7"
   },
   "source": [
    "Que 2-> you have a list [1,8,0,6,4,0,6,0,0,2,0], You need to shift all the zeros to the right , without using any inbuilt function."
   ]
  },
  {
   "cell_type": "code",
   "execution_count": null,
   "id": "39017c11-1084-4c96-b229-83ba71c15b98",
   "metadata": {
    "id": "39017c11-1084-4c96-b229-83ba71c15b98"
   },
   "outputs": [],
   "source": []
  },
  {
   "cell_type": "markdown",
   "id": "8f6bb4bc-9d9f-4f99-ad34-489934da6fb8",
   "metadata": {
    "id": "8f6bb4bc-9d9f-4f99-ad34-489934da6fb8"
   },
   "source": [
    "Que 3->Reverse a string without using any inbuilt function like slicing."
   ]
  },
  {
   "cell_type": "code",
   "execution_count": null,
   "id": "3cfc4b48-15e0-4fcf-8cb7-1c6171d407e6",
   "metadata": {
    "id": "3cfc4b48-15e0-4fcf-8cb7-1c6171d407e6"
   },
   "outputs": [],
   "source": []
  },
  {
   "cell_type": "markdown",
   "id": "58b475ca-89a9-4074-adfa-1b31e6609aaf",
   "metadata": {
    "id": "58b475ca-89a9-4074-adfa-1b31e6609aaf"
   },
   "source": [
    "Que 4-> To find common prefix in array of strings\n",
    "\n",
    "array= ['Abce','Abcjhgj','Abcf']\n",
    "\n",
    "\n",
    "The common prefix among the strings 'Abce', 'Abcjhgj', and 'Abcf' is 'Abc'. So, the common prefix is 'Abc'."
   ]
  },
  {
   "cell_type": "code",
   "execution_count": null,
   "id": "80d7e6ea-574b-4135-aa87-a042e9956390",
   "metadata": {
    "id": "80d7e6ea-574b-4135-aa87-a042e9956390"
   },
   "outputs": [],
   "source": []
  },
  {
   "cell_type": "markdown",
   "id": "91637a40-f4ed-414d-9c71-c82374cb13a3",
   "metadata": {
    "id": "91637a40-f4ed-414d-9c71-c82374cb13a3"
   },
   "source": [
    "Que 5- Given the list l = [1,2,0,1,2,0,0], I want the output to be ans = [0,0,0,2,2,1,1] without using any inbuilt function"
   ]
  },
  {
   "cell_type": "code",
   "execution_count": 19,
   "id": "ea7b0b77-9ff4-4f73-9a99-129c665fb961",
   "metadata": {
    "id": "ea7b0b77-9ff4-4f73-9a99-129c665fb961"
   },
   "outputs": [
    {
     "name": "stdout",
     "output_type": "stream",
     "text": [
      "Shifted list [1, 2, 2, 1, 0, 0, 0]\n"
     ]
    }
   ],
   "source": [
    "def shift_zeros(nums):\n",
    "    left = 0\n",
    "    right = len(nums) - 1\n",
    "    while left < right:\n",
    "        if nums[left] == 0:\n",
    "            nums[left], nums[right] = nums[right], nums[left]\n",
    "            right -= 1\n",
    "        else:\n",
    "            left += 1\n",
    "\n",
    "    return nums\n",
    "l = [1, 2, 0, 1, 2, 0, 0]\n",
    "ans = shift_zeros(l)\n",
    "print(\"Shifted list\",ans)"
   ]
  },
  {
   "cell_type": "code",
   "execution_count": null,
   "id": "f36bc3d6-7bd0-4f8e-aad7-ac40484e911f",
   "metadata": {
    "id": "f36bc3d6-7bd0-4f8e-aad7-ac40484e911f"
   },
   "outputs": [],
   "source": []
  },
  {
   "cell_type": "markdown",
   "id": "e17c874f-ffe2-416f-af6c-2ba6e57a0bfd",
   "metadata": {
    "id": "e17c874f-ffe2-416f-af6c-2ba6e57a0bfd"
   },
   "source": [
    "# Statistics Theory Question\n"
   ]
  },
  {
   "cell_type": "markdown",
   "id": "0b748385-fe05-40f2-adc8-5b643f95b906",
   "metadata": {
    "id": "0b748385-fe05-40f2-adc8-5b643f95b906"
   },
   "source": [
    "Que 1- What is Central Limit Theoram ? Explain."
   ]
  },
  {
   "cell_type": "markdown",
   "id": "80450e85",
   "metadata": {
    "id": "6e9ac27e-7076-4a13-89a6-d0ebe39d10f1"
   },
   "source": [
    "Based central limit theorem, normal dist is irrespective of the sample size and non normal dist is the sample size is adequate. "
   ]
  },
  {
   "cell_type": "markdown",
   "id": "8466b61e-24b9-4567-bd63-04d8fb5360ad",
   "metadata": {
    "id": "8466b61e-24b9-4567-bd63-04d8fb5360ad"
   },
   "source": [
    "Que 2- What is CDF(Comulative density function). Explain with mathematics."
   ]
  },
  {
   "cell_type": "markdown",
   "id": "3c6fd53c",
   "metadata": {
    "id": "02b38da6-fd6a-4ecc-8275-aa85a320f78a"
   },
   "source": [
    "cumulative density function\n",
    "it converts the normal distribution into standard normal distriubution\n",
    "z = (sample mean- mean)/standard deviation"
   ]
  },
  {
   "cell_type": "markdown",
   "id": "6ada9cfc-cb42-4e64-b74e-7befd45cbe4a",
   "metadata": {
    "id": "6ada9cfc-cb42-4e64-b74e-7befd45cbe4a"
   },
   "source": [
    "Que 3- What is Anova test. how we can calculate behind the scene ?"
   ]
  },
  {
   "cell_type": "markdown",
   "id": "27447c68",
   "metadata": {
    "id": "b2173ae3-80fc-4ba6-bbb9-3013db30a02f"
   },
   "source": [
    "Ans= ANOVA- Analysis of Variance, it compares the difference in the means of two or more groups."
   ]
  },
  {
   "cell_type": "markdown",
   "id": "dffe2da1-3353-4865-85eb-fff2caea349a",
   "metadata": {
    "id": "dffe2da1-3353-4865-85eb-fff2caea349a"
   },
   "source": [
    "Que 4-  What is Chi-Square test. how we will calculate behind the scene."
   ]
  },
  {
   "cell_type": "markdown",
   "id": "7a10ea76",
   "metadata": {
    "id": "00d08145-13da-4d6d-a580-fca78914b2d8"
   },
   "source": [
    "Ans= it is a statistical tool where it checks the difference between the expected outcome and observed outcome.\n",
    "chi sqaure = sum(sqaure(observed-expected)/expected)"
   ]
  },
  {
   "cell_type": "markdown",
   "id": "8fec219a-1fe3-41db-a2ba-8a0b5e0b4a43",
   "metadata": {
    "id": "8fec219a-1fe3-41db-a2ba-8a0b5e0b4a43"
   },
   "source": [
    "Que 5-  What is the difference between inferential and descriptive statistics."
   ]
  },
  {
   "cell_type": "markdown",
   "id": "ae664238",
   "metadata": {
    "id": "6717b5d9-704f-4f01-854a-d89d40cb8568"
   },
   "source": [
    "Ans= Inferential Statistics\n",
    "      -apply on some sample population\n",
    "      -draw conclusions about a population based on information obtained from a sample.\n",
    "Descriptive Statistics\n",
    "-apply on whole population\n",
    "-results be like mean,median and mode"
   ]
  },
  {
   "cell_type": "markdown",
   "id": "d7a2df48-9875-4b6b-ba26-feee4e03b1d5",
   "metadata": {
    "id": "d7a2df48-9875-4b6b-ba26-feee4e03b1d5"
   },
   "source": [
    "Que 6- Explain any 2 distribution."
   ]
  },
  {
   "cell_type": "markdown",
   "id": "3f1e6db9",
   "metadata": {
    "id": "938bde99-9a25-4a93-b594-182b09b7db61"
   },
   "source": [
    "There are mainly Normal distribution,Uniform Distribution, symmetric dist and Binomial distribution\n",
    "\n",
    "Normal distribution - returns a proper bell curve - the mean in normal dist is zero and standard deviation is 1. There are mainly two types of normal dist - skewed right (the bell urve will be the right side of the graph) and skewed left (bell curve will be in the left side of the graph)\n",
    "\n",
    "Uniform distribution - also known as probability distribution. Here all the values have equal probability. rectangualr in shape\n"
   ]
  },
  {
   "cell_type": "markdown",
   "id": "5c2a1d3b-bea9-4de6-8018-a120e2d36528",
   "metadata": {
    "id": "5c2a1d3b-bea9-4de6-8018-a120e2d36528"
   },
   "source": [
    "# Statistics Mathematics  Question\n",
    "\n"
   ]
  },
  {
   "cell_type": "markdown",
   "id": "40749fa8-a06d-4d9c-8864-4bb8b24599a3",
   "metadata": {
    "id": "40749fa8-a06d-4d9c-8864-4bb8b24599a3"
   },
   "source": [
    "Que 1 - if I generate heights for 1000 people from a normal distribution, what would be the probability for a new person to have a height of 70 inches using (CDF) then z-score table? take height in inches.\n",
    "\n",
    "#### Mean height (in inches) of the population\n",
    "mean_height = 66\n",
    "\n",
    "#### Standard deviation of heights (in inches) of the population\n",
    "std_dev_height = 3\n",
    "\n",
    "\n",
    "##### Generate data using this code\n",
    "###### Generate heights for 1000 people from a normal distribution\n",
    "heights = np.random.normal(mean_height, std_dev_height, 1000)))"
   ]
  },
  {
   "cell_type": "code",
   "execution_count": 14,
   "id": "e0b6c3a7-4b11-403f-860d-0beab1408712",
   "metadata": {
    "id": "e0b6c3a7-4b11-403f-860d-0beab1408712"
   },
   "outputs": [],
   "source": [
    "import numpy as np\n",
    "import pandas as pd\n",
    "import numpy.random as random\n",
    "import scipy.stats as st\n"
   ]
  },
  {
   "cell_type": "code",
   "execution_count": 11,
   "id": "94017f33",
   "metadata": {},
   "outputs": [],
   "source": [
    "mean_height = 66\n",
    "std_dev_height = 3"
   ]
  },
  {
   "cell_type": "code",
   "execution_count": null,
   "id": "85ea07a9",
   "metadata": {},
   "outputs": [],
   "source": []
  },
  {
   "cell_type": "code",
   "execution_count": 12,
   "id": "02c423a1-cadd-4780-b2b1-606b36cbb1a9",
   "metadata": {
    "id": "02c423a1-cadd-4780-b2b1-606b36cbb1a9"
   },
   "outputs": [],
   "source": [
    "heights = np.random.normal(mean_height, std_dev_height, 1000)"
   ]
  },
  {
   "cell_type": "code",
   "execution_count": 13,
   "id": "fc8691b1-9217-45fa-9c79-c7ad3b60b150",
   "metadata": {
    "id": "fc8691b1-9217-45fa-9c79-c7ad3b60b150"
   },
   "outputs": [
    {
     "data": {
      "text/plain": [
       "array([67.97486808, 65.77526109, 63.30823998, 58.21121957, 69.6730392 ,\n",
       "       68.3502061 , 61.67864944, 71.1981722 , 64.95123691, 63.1481846 ,\n",
       "       67.00240734, 66.70748974, 63.44388807, 68.13497583, 68.90086189,\n",
       "       67.29007986, 65.90423962, 61.46206381, 62.86977342, 67.1372255 ,\n",
       "       64.86567374, 70.72332945, 67.20559522, 68.31756245, 58.53793852,\n",
       "       68.95457338, 64.55616634, 59.43563213, 69.01828066, 63.83445467,\n",
       "       65.18341811, 70.27885116, 65.01003531, 66.75041877, 64.67392296,\n",
       "       65.82859773, 63.84767544, 63.1727719 , 59.00535134, 68.21634198,\n",
       "       67.57269579, 65.30703309, 61.82672227, 65.91487303, 62.65759027,\n",
       "       69.9228644 , 67.80140235, 61.62038649, 65.1218964 , 60.17875987,\n",
       "       64.22402536, 66.29427478, 65.19390593, 68.56521886, 65.78939459,\n",
       "       60.43518093, 65.35527722, 69.31961733, 63.76409758, 64.70824472,\n",
       "       68.17623539, 65.76606838, 62.25650413, 66.85162017, 66.83386163,\n",
       "       67.57565319, 65.92585536, 60.22463756, 67.12175281, 67.25906943,\n",
       "       62.17542715, 74.11115772, 65.45191487, 64.29517013, 63.69623621,\n",
       "       67.23086383, 61.79499578, 67.10419565, 68.3907763 , 66.30378642,\n",
       "       69.91050233, 69.97305288, 63.9068955 , 61.83814254, 68.26928216,\n",
       "       63.00591864, 67.21534042, 68.93921433, 65.17167612, 61.35404516,\n",
       "       63.20381523, 69.68262805, 58.71468925, 61.80895218, 64.49117162,\n",
       "       64.55096213, 71.72517875, 70.4625688 , 66.29833699, 69.14445641,\n",
       "       67.31190228, 64.75989315, 64.00479512, 65.71492794, 70.78164001,\n",
       "       63.91423126, 63.31975614, 65.53276179, 62.44034382, 65.28396906,\n",
       "       68.46116239, 65.03531303, 67.12279737, 62.36638373, 61.05359424,\n",
       "       66.18277394, 67.37887695, 66.02347843, 69.0075818 , 67.98099956,\n",
       "       65.26235792, 69.71603445, 66.77057267, 63.74701409, 64.50636105,\n",
       "       62.6700517 , 65.55956496, 63.05238804, 64.55726198, 65.47154453,\n",
       "       69.58560282, 62.59794195, 67.3969344 , 66.69462513, 68.00790542,\n",
       "       65.86106747, 61.0838343 , 64.02587235, 64.54877712, 63.03476565,\n",
       "       66.58999107, 70.70729501, 71.12696893, 63.79068488, 63.6551307 ,\n",
       "       60.29224694, 67.09302892, 65.262009  , 65.7743756 , 65.62663374,\n",
       "       63.52398425, 66.79473291, 67.26207486, 67.4007715 , 64.65285505,\n",
       "       66.16440331, 67.19541568, 65.1567728 , 68.8508941 , 68.41129879,\n",
       "       67.45174873, 66.49410906, 64.12303673, 67.29721994, 63.34100762,\n",
       "       63.34948852, 70.10762693, 66.92440341, 66.18244273, 69.7800468 ,\n",
       "       66.8421413 , 67.73504338, 67.14745652, 66.1322006 , 64.67400257,\n",
       "       60.11275474, 63.85227715, 71.49811023, 69.64805092, 65.20271414,\n",
       "       64.01214915, 73.57832625, 66.0624074 , 70.88721938, 65.01554535,\n",
       "       64.352264  , 68.63093933, 61.52225788, 70.27988767, 67.10745821,\n",
       "       59.15592382, 70.50040552, 72.33862799, 61.06474961, 69.75267507,\n",
       "       66.45881052, 67.19899532, 69.08699074, 65.61137011, 61.21806258,\n",
       "       64.31392095, 64.48418828, 68.43852672, 64.12935209, 65.8475981 ,\n",
       "       63.43766296, 65.56911091, 64.98315937, 68.62966802, 64.1921151 ,\n",
       "       61.32212176, 66.8857742 , 69.20937629, 65.13262429, 67.49874662,\n",
       "       58.82411111, 69.8148408 , 67.87284914, 62.28732538, 73.2071368 ,\n",
       "       65.74388202, 64.69698441, 66.61322724, 63.82234641, 65.33956955,\n",
       "       61.02395428, 62.54123143, 61.64080084, 62.16017003, 67.1256498 ,\n",
       "       67.44970166, 68.90625627, 65.88485026, 66.00360749, 67.56510702,\n",
       "       71.23513639, 60.64340108, 64.62222274, 60.76576491, 66.35399794,\n",
       "       65.01717434, 66.961977  , 63.06260814, 73.15053894, 66.39073501,\n",
       "       65.17166784, 71.30309294, 64.16659828, 69.78404249, 71.46348452,\n",
       "       64.3942097 , 67.66955545, 59.50200237, 64.51824321, 67.38066525,\n",
       "       72.60274848, 63.40333757, 65.61231253, 66.39158788, 62.51465701,\n",
       "       64.82122855, 64.02547882, 69.78103696, 66.29841484, 63.34677088,\n",
       "       58.5080059 , 63.60719737, 66.03734183, 64.80132895, 67.29536073,\n",
       "       66.3114103 , 62.60403719, 63.89635735, 68.82055096, 63.59130744,\n",
       "       64.3651195 , 69.17217175, 67.79963652, 67.38314749, 60.47369745,\n",
       "       64.56295259, 64.30565467, 65.76460216, 63.82897829, 62.86534939,\n",
       "       65.18082786, 64.00394949, 65.74519239, 61.96219273, 64.03865156,\n",
       "       64.52164659, 64.04783403, 67.2110493 , 63.86179403, 66.96531192,\n",
       "       61.31005747, 62.2915119 , 67.71951976, 64.6944536 , 62.35879507,\n",
       "       64.23872498, 58.74412905, 71.81171225, 66.37239263, 67.22025897,\n",
       "       67.33925429, 66.5271073 , 69.04536847, 65.22852137, 63.77421213,\n",
       "       63.26330695, 69.71993365, 67.61416283, 65.28209851, 69.13887364,\n",
       "       62.46134622, 67.81746397, 67.10722981, 61.98981265, 64.06810331,\n",
       "       64.79508929, 69.60263562, 61.09545588, 65.4085685 , 65.55933269,\n",
       "       64.13997253, 70.28652811, 64.28875917, 65.62409369, 67.166304  ,\n",
       "       69.27272505, 61.95793183, 66.52061519, 68.60730129, 60.85706339,\n",
       "       68.20202077, 64.01129643, 64.04252829, 67.40798068, 68.27946424,\n",
       "       62.98525688, 57.48359233, 69.88538208, 69.30129492, 62.21742798,\n",
       "       62.15458694, 67.77535432, 66.95795139, 68.12696967, 59.120565  ,\n",
       "       66.06854824, 64.17213339, 68.95249828, 71.78859183, 59.9095673 ,\n",
       "       64.25741241, 69.95730745, 63.02076111, 67.2468064 , 64.74387845,\n",
       "       62.152884  , 63.80090118, 64.57390355, 66.08135534, 65.97716693,\n",
       "       68.21385608, 66.97643588, 66.4605311 , 62.08138085, 62.97367468,\n",
       "       61.45254005, 64.24099061, 64.30029006, 67.20983799, 70.08472512,\n",
       "       67.75247174, 65.82352535, 69.85601716, 65.6856883 , 62.28666093,\n",
       "       63.0819193 , 59.80921828, 64.23694355, 67.11052678, 63.80763065,\n",
       "       64.1239055 , 65.79312974, 64.4138834 , 64.75208195, 67.4863858 ,\n",
       "       64.45349253, 71.56667232, 74.10975581, 67.04029893, 65.04882802,\n",
       "       64.35248309, 64.35975193, 70.39761198, 62.31865442, 64.33749224,\n",
       "       67.52913395, 60.265353  , 67.59059445, 65.59980818, 66.10466259,\n",
       "       69.36651013, 67.0030992 , 65.03470931, 69.67361508, 62.07611441,\n",
       "       67.27191228, 63.22117067, 67.41366717, 66.33720761, 66.74183983,\n",
       "       67.15983254, 66.01458857, 62.2819123 , 66.8765576 , 60.9389574 ,\n",
       "       64.613105  , 59.49940969, 63.31409565, 66.47519334, 66.97826468,\n",
       "       64.66707453, 65.98435484, 62.39927538, 64.65472615, 69.74700305,\n",
       "       62.88966846, 63.03346011, 68.96493066, 68.55165195, 61.35654384,\n",
       "       68.82418058, 63.48359244, 57.15330313, 70.83905387, 65.3382811 ,\n",
       "       61.59275734, 71.13002993, 65.49021564, 64.78473774, 69.07703045,\n",
       "       65.89741881, 61.55642081, 69.02736961, 65.69375045, 66.75646371,\n",
       "       67.92365297, 66.35584549, 65.5915489 , 59.74661324, 68.13126484,\n",
       "       66.90703356, 65.17964023, 69.41234588, 73.76630633, 67.76715511,\n",
       "       65.11917542, 59.2971446 , 66.02600982, 61.52382884, 67.9859321 ,\n",
       "       63.68897608, 58.21730176, 68.34506772, 67.37433671, 65.20394842,\n",
       "       65.39746482, 66.73496958, 66.88223538, 66.90528953, 68.16348982,\n",
       "       64.26737432, 61.74386536, 69.22941021, 61.92049187, 66.19259874,\n",
       "       66.8766447 , 59.21083114, 65.84609566, 64.68685791, 68.72623501,\n",
       "       68.61608986, 63.25376539, 64.16505385, 63.98642478, 63.54060269,\n",
       "       65.31610304, 60.76609577, 69.00502934, 70.75077148, 69.39507915,\n",
       "       63.30854439, 68.30895137, 65.17987691, 64.52534313, 69.85216451,\n",
       "       63.4263401 , 67.04781919, 65.48408681, 65.88981352, 64.27088944,\n",
       "       64.96311609, 58.4857987 , 64.72562271, 62.49636322, 68.29400742,\n",
       "       68.71754908, 66.88632959, 66.38154898, 62.3888205 , 63.44491565,\n",
       "       68.94172749, 67.59555802, 70.34697845, 65.71443482, 62.07415318,\n",
       "       67.18849854, 68.95340313, 68.8359108 , 63.37133969, 63.2652589 ,\n",
       "       64.37801853, 68.93065143, 62.0857483 , 64.17364332, 65.45772711,\n",
       "       68.69372276, 68.62472655, 75.12983022, 64.4389468 , 62.15153098,\n",
       "       76.0771062 , 67.42257477, 68.49493725, 67.03429158, 69.10183858,\n",
       "       65.44487835, 71.39567621, 63.5249084 , 65.03418043, 62.21107895,\n",
       "       66.30421352, 67.65987765, 65.11853129, 65.39787513, 64.96178239,\n",
       "       62.98968472, 65.59732527, 65.38625673, 62.75602516, 64.96110636,\n",
       "       69.74972263, 65.45798564, 65.40719991, 70.31874255, 66.13797614,\n",
       "       64.4720761 , 66.97492087, 59.90836713, 67.56759988, 70.46483616,\n",
       "       60.87973044, 65.44556304, 65.21043466, 66.80336328, 65.58408033,\n",
       "       67.4707017 , 66.17168383, 64.69219609, 64.32975406, 61.26402042,\n",
       "       66.40905677, 62.90121739, 66.55967828, 61.55259746, 66.23018453,\n",
       "       63.65784507, 66.66951787, 62.22148906, 62.67357099, 65.64524385,\n",
       "       65.1410771 , 62.92446771, 68.26102602, 64.02219153, 62.08261619,\n",
       "       67.62310574, 67.73870824, 67.56157131, 64.32383737, 68.21943386,\n",
       "       61.57347773, 67.3616087 , 64.10138266, 63.91347357, 67.24839645,\n",
       "       61.1675797 , 65.13372116, 66.16090372, 61.51620973, 67.51340335,\n",
       "       67.17846041, 60.96498654, 65.06358852, 62.87435163, 64.21045341,\n",
       "       62.36121329, 65.43878145, 66.08491748, 61.54642596, 69.39757931,\n",
       "       66.6933917 , 67.05220672, 57.91781108, 61.94858727, 69.17952372,\n",
       "       67.26255864, 70.74891173, 65.82222165, 67.28113647, 66.1291885 ,\n",
       "       67.6752696 , 67.57756365, 69.23085536, 66.56415843, 64.36794617,\n",
       "       60.69349434, 69.29591298, 60.39260973, 62.78209447, 68.03428164,\n",
       "       66.00454662, 65.88586393, 65.5490229 , 70.3300217 , 66.75842596,\n",
       "       73.088444  , 64.90450636, 60.53264014, 67.38063471, 65.78006462,\n",
       "       66.98829071, 63.44066239, 64.80143507, 66.90386725, 67.50079847,\n",
       "       65.90111154, 59.8063449 , 65.13694703, 70.1395593 , 67.16165263,\n",
       "       66.0747341 , 63.84719717, 64.20462357, 69.3810905 , 62.96990034,\n",
       "       71.59451805, 66.40431674, 65.67897112, 64.10422314, 61.92748356,\n",
       "       68.65528485, 61.11282361, 64.33551132, 61.68491092, 64.43692731,\n",
       "       63.70225016, 62.73491005, 65.19534662, 65.70178907, 66.72350104,\n",
       "       64.29678603, 65.97469094, 64.06833289, 66.23475315, 67.47149644,\n",
       "       63.42201769, 69.09519788, 64.55657813, 63.27911519, 65.57235256,\n",
       "       64.4909505 , 70.23077731, 66.33073596, 65.95478824, 65.60641071,\n",
       "       69.8083624 , 65.58772065, 64.72737092, 60.80988216, 64.62717282,\n",
       "       60.34906354, 65.50662013, 64.60386616, 67.22025145, 63.63481783,\n",
       "       65.75747538, 63.57968369, 65.65869083, 71.69300769, 66.91945878,\n",
       "       74.92764186, 61.35273273, 63.87123931, 70.78191712, 69.32239321,\n",
       "       64.18550418, 58.90209906, 66.0267332 , 63.61192964, 63.82084084,\n",
       "       62.27357397, 63.15262217, 63.62577596, 58.49750033, 64.95956628,\n",
       "       63.76174996, 67.55699482, 68.92148394, 67.63368235, 64.14266193,\n",
       "       65.32714767, 60.96077994, 67.45810328, 66.16941408, 68.05680176,\n",
       "       68.7830073 , 67.41933748, 67.14417376, 65.88642446, 64.42389769,\n",
       "       70.50580127, 68.32575603, 66.34789039, 64.63769729, 66.74110967,\n",
       "       67.95252554, 64.38808476, 63.99595684, 69.15560678, 65.17108071,\n",
       "       60.95842904, 69.55596918, 64.38504829, 65.23077316, 67.30684485,\n",
       "       63.56189615, 68.79482897, 68.25228077, 65.67883185, 67.02613801,\n",
       "       67.94297235, 66.88495462, 68.0738895 , 66.93795678, 64.03354609,\n",
       "       66.31661204, 68.4783501 , 69.52385145, 67.52916887, 70.14473412,\n",
       "       69.28755772, 68.55394583, 62.08408534, 62.69941771, 70.47073427,\n",
       "       65.4831147 , 60.93878909, 66.6749148 , 64.31760598, 67.41996597,\n",
       "       65.61117574, 68.11452223, 63.75965701, 61.04405145, 68.23809521,\n",
       "       70.56876055, 63.64360588, 62.01694724, 69.33041805, 67.14600931,\n",
       "       70.1876498 , 67.05510701, 62.15214868, 65.9473926 , 67.36506438,\n",
       "       66.09969795, 74.86674055, 62.91832206, 66.23565772, 65.87128043,\n",
       "       69.98340972, 65.356785  , 68.3746875 , 66.00246927, 61.45086186,\n",
       "       69.09545956, 69.65471643, 64.40411279, 65.02621957, 64.51981343,\n",
       "       67.93771647, 68.88532822, 60.61559833, 64.82743243, 71.65616177,\n",
       "       64.83269967, 62.87850133, 62.6793522 , 61.94453841, 65.14515708,\n",
       "       70.72146956, 62.96355558, 64.73071869, 67.75774205, 66.3336611 ,\n",
       "       65.44062501, 67.78802623, 66.72502057, 60.06889028, 63.167065  ,\n",
       "       63.48819695, 62.51274357, 62.2666998 , 67.84426156, 64.58740402,\n",
       "       64.52974903, 67.84740597, 60.03958118, 62.59642053, 66.11851849,\n",
       "       67.14254832, 62.38162839, 63.20686574, 70.13831963, 63.09478773,\n",
       "       67.12164307, 70.51531796, 66.89283058, 66.62670319, 67.11200522,\n",
       "       62.58736106, 67.87390087, 69.50708569, 64.06290357, 63.84603801,\n",
       "       65.07407438, 58.36785002, 63.08899318, 64.14943103, 67.70566779,\n",
       "       64.71188715, 69.01084267, 69.32381676, 69.28135222, 60.31623076,\n",
       "       72.97585535, 69.87179097, 62.86720235, 67.99804092, 66.74109363,\n",
       "       63.51372803, 65.70175988, 67.63197189, 65.4321868 , 62.86089434,\n",
       "       65.66912911, 63.419023  , 63.28768068, 65.38884949, 69.09643672,\n",
       "       69.21382999, 65.54055348, 65.3034163 , 66.41220725, 67.75370523,\n",
       "       69.31453762, 69.74231712, 65.57872739, 64.96349016, 63.64676194,\n",
       "       68.16599827, 63.58430718, 70.55502883, 67.21111928, 66.98639836,\n",
       "       68.52265433, 65.2107241 , 67.19012415, 66.8508011 , 63.09201848,\n",
       "       64.81373519, 66.75142398, 66.0897059 , 68.23223693, 61.93825236,\n",
       "       64.17181585, 66.41337278, 69.93020675, 65.81442917, 67.08644806,\n",
       "       68.93844458, 63.80686459, 66.52440908, 65.66070086, 64.50666644,\n",
       "       66.71092592, 66.27052389, 65.3073164 , 61.17657725, 67.53829052,\n",
       "       63.09998371, 64.59572172, 62.62056853, 67.04406996, 65.6223651 ,\n",
       "       71.89329721, 70.85306919, 61.26073165, 66.91706223, 62.18176346,\n",
       "       64.29875278, 71.19499333, 64.84708884, 64.70628139, 69.4973142 ,\n",
       "       66.18039658, 64.23754429, 64.34579811, 70.54035445, 63.15878525,\n",
       "       67.68721574, 63.77043883, 64.54601587, 68.12690825, 68.08634899,\n",
       "       66.49467497, 65.49687172, 62.7614692 , 66.50436697, 58.15653716,\n",
       "       66.89844158, 65.64419014, 68.14569957, 69.9247847 , 64.13631175,\n",
       "       67.18715047, 69.23391532, 57.69949031, 64.42174121, 66.08197572,\n",
       "       63.91490325, 65.20945668, 62.51673865, 63.91013239, 67.47045193,\n",
       "       68.11995073, 64.19043019, 65.03825786, 69.33585735, 65.87545158,\n",
       "       68.17700884, 62.96391993, 62.21494104, 63.33752496, 63.94270968,\n",
       "       63.01845798, 70.03393351, 64.5867247 , 67.40960496, 63.86221663,\n",
       "       63.91307573, 67.35180247, 66.10646271, 64.97712512, 67.10533937,\n",
       "       66.36610312, 66.32539212, 71.71928956, 67.52219229, 66.49330413,\n",
       "       67.22126725, 64.71719723, 65.12081691, 69.0296975 , 63.68677723,\n",
       "       65.21350721, 67.600193  , 61.87993045, 65.71808287, 66.38867744,\n",
       "       64.98713164, 64.7527415 , 66.33092663, 61.43678373, 60.57761057])"
      ]
     },
     "execution_count": 13,
     "metadata": {},
     "output_type": "execute_result"
    }
   ],
   "source": [
    "heights"
   ]
  },
  {
   "cell_type": "code",
   "execution_count": 15,
   "id": "5dabad10-7ae0-4827-9d09-6b95ea27deea",
   "metadata": {
    "id": "5dabad10-7ae0-4827-9d09-6b95ea27deea"
   },
   "outputs": [
    {
     "name": "stdout",
     "output_type": "stream",
     "text": [
      "0.9087887802741321\n"
     ]
    }
   ],
   "source": [
    "x = 70\n",
    "prob=st.norm.cdf(x,loc=mean_height,scale=std_dev_height)\n",
    "print(prob)"
   ]
  },
  {
   "cell_type": "code",
   "execution_count": null,
   "id": "2ab7b5e6-e40f-450c-becf-eadedda71980",
   "metadata": {
    "id": "2ab7b5e6-e40f-450c-becf-eadedda71980"
   },
   "outputs": [],
   "source": []
  },
  {
   "cell_type": "markdown",
   "id": "99a22f4f-7737-4ef9-9ad0-fb7bd8e0ba46",
   "metadata": {
    "id": "99a22f4f-7737-4ef9-9ad0-fb7bd8e0ba46"
   },
   "source": [
    "Que 2-  Suppose a fitness center manager anticipates the attendance for a particular yoga class throughout the week. Based on historical data and other factors, they estimate the expected attendance in numbers:\n",
    "\n",
    "### Expected Attendance:\n",
    "\n",
    "Monday: 40\n",
    "\n",
    "Tuesday: 45\n",
    "\n",
    "Wednesday: 38\n",
    "\n",
    "Thursday: 50\n",
    "\n",
    "Friday: 55\n",
    "\n",
    "Saturday: 60\n",
    "\n",
    "Sunday: 65\n",
    "\n",
    "However, after the week concludes, the actual attendance is recorded:\n",
    "\n",
    "\n",
    "\n",
    "### Observed (Actual) Attendance:\n",
    "\n",
    "\n",
    "\n",
    "Monday: 38\n",
    "\n",
    "Tuesday: 43\n",
    "\n",
    "Wednesday: 40\n",
    "\n",
    "Thursday: 48\n",
    "\n",
    "Friday: 52\n",
    "\n",
    "Saturday: 58\n",
    "\n",
    "Sunday: 62\n",
    "\n",
    "Ho: There is no significant difference between the expected and observed attendance for the yoga class throughout the week.\n",
    "\n",
    "Ha: There is a significant difference between the expected and observed attendance for the yoga class throughout the week.\n",
    "\n",
    "#### Use chi-square test *Statistical Tools*"
   ]
  },
  {
   "cell_type": "code",
   "execution_count": null,
   "id": "06f2df44-24f4-4314-900d-d03f02823ceb",
   "metadata": {
    "id": "06f2df44-24f4-4314-900d-d03f02823ceb"
   },
   "outputs": [],
   "source": [
    "# chi square = sum(sqaure(Oi - Ei)/Ei)"
   ]
  },
  {
   "cell_type": "code",
   "execution_count": null,
   "id": "70f12c86",
   "metadata": {},
   "outputs": [],
   "source": [
    "expected = [40,45,38,50,55,60,65]\n",
    "observed = [38,43,40,48,52,58,62]"
   ]
  },
  {
   "cell_type": "code",
   "execution_count": 16,
   "id": "3db52de2-8492-49fa-a11f-9289d5318284",
   "metadata": {
    "id": "3db52de2-8492-49fa-a11f-9289d5318284"
   },
   "outputs": [
    {
     "name": "stdout",
     "output_type": "stream",
     "text": [
      " Chi_Square test statistics score ==>  0.7429166155481945\n"
     ]
    }
   ],
   "source": [
    "chi =[np.square(38-40)/40,\n",
    "     np.square(43-45)/45,\n",
    "     np.square(40-38)/38,\n",
    "     np.square(48-50)/50,\n",
    "     np.square(52-55)/55,\n",
    "     np.square(58-60)/60,\n",
    "     np.square(62-65)/65]\n",
    "print(\" Chi_Square test statistics score ==> \",np.sum(chi))"
   ]
  },
  {
   "cell_type": "markdown",
   "id": "a540455e",
   "metadata": {},
   "source": [
    "As the chi value is greater than 0.1, the Ho is correct"
   ]
  },
  {
   "cell_type": "markdown",
   "id": "a651ae03-9b6a-4af4-a3e9-97b90bb8913e",
   "metadata": {
    "id": "a651ae03-9b6a-4af4-a3e9-97b90bb8913e"
   },
   "source": [
    "Que3 -> Calculate anova test\n",
    "\n",
    "\n",
    "\n",
    "\n",
    "\n",
    "    | Student_ID | Semester | Total_Marks |\n",
    "    |------------|----------|-------------|\n",
    "    | 1          | Fall     | 85          |\n",
    "    | 2          | Fall     | 78          |\n",
    "    | 3          | Fall     | 92          |\n",
    "    | 4          | Spring   | 88          |\n",
    "    | 5          | Spring   | 75          |\n",
    "    | 6          | Spring   | 82          |\n",
    "    | 7          | Summer   | 90          |\n",
    "    | 8          | Summer   | 86          |\n",
    "    | 9          | Summer   | 79          |    \n",
    "\n",
    "\n",
    "Null Hypothesis (Ho): The average marks of students in each semester are approximately equal.\n",
    "\n",
    "Alternative Hypothesis (Ha): The average marks of students in at least one semester are different."
   ]
  },
  {
   "cell_type": "code",
   "execution_count": 23,
   "id": "4bfe5d79",
   "metadata": {},
   "outputs": [],
   "source": [
    "import numpy as np\n",
    "import pandas as pd\n",
    "import statsmodels.formula.api as sm\n",
    "import statsmodels.api as k"
   ]
  },
  {
   "cell_type": "code",
   "execution_count": 20,
   "id": "f4680b16-587c-4bec-809e-bfe473b7538a",
   "metadata": {
    "id": "f4680b16-587c-4bec-809e-bfe473b7538a"
   },
   "outputs": [],
   "source": [
    "x ={'student_id':[1,2,3,4,5,6,7,8,9],\n",
    "   'Semester':['Fall',\"Fall\",'Fall','Spring','Spring','Spring','Summer','Summer','Summer'],\n",
    "   'total':[85,78,92,88,75,82,90,86,79]}"
   ]
  },
  {
   "cell_type": "code",
   "execution_count": 21,
   "id": "18d90b6a-a4e8-4b2c-97a2-9829efb6703b",
   "metadata": {
    "id": "18d90b6a-a4e8-4b2c-97a2-9829efb6703b"
   },
   "outputs": [
    {
     "data": {
      "text/html": [
       "<div>\n",
       "<style scoped>\n",
       "    .dataframe tbody tr th:only-of-type {\n",
       "        vertical-align: middle;\n",
       "    }\n",
       "\n",
       "    .dataframe tbody tr th {\n",
       "        vertical-align: top;\n",
       "    }\n",
       "\n",
       "    .dataframe thead th {\n",
       "        text-align: right;\n",
       "    }\n",
       "</style>\n",
       "<table border=\"1\" class=\"dataframe\">\n",
       "  <thead>\n",
       "    <tr style=\"text-align: right;\">\n",
       "      <th></th>\n",
       "      <th>student_id</th>\n",
       "      <th>Semester</th>\n",
       "      <th>total</th>\n",
       "    </tr>\n",
       "  </thead>\n",
       "  <tbody>\n",
       "    <tr>\n",
       "      <th>0</th>\n",
       "      <td>1</td>\n",
       "      <td>Fall</td>\n",
       "      <td>85</td>\n",
       "    </tr>\n",
       "    <tr>\n",
       "      <th>1</th>\n",
       "      <td>2</td>\n",
       "      <td>Fall</td>\n",
       "      <td>78</td>\n",
       "    </tr>\n",
       "    <tr>\n",
       "      <th>2</th>\n",
       "      <td>3</td>\n",
       "      <td>Fall</td>\n",
       "      <td>92</td>\n",
       "    </tr>\n",
       "    <tr>\n",
       "      <th>3</th>\n",
       "      <td>4</td>\n",
       "      <td>Spring</td>\n",
       "      <td>88</td>\n",
       "    </tr>\n",
       "    <tr>\n",
       "      <th>4</th>\n",
       "      <td>5</td>\n",
       "      <td>Spring</td>\n",
       "      <td>75</td>\n",
       "    </tr>\n",
       "    <tr>\n",
       "      <th>5</th>\n",
       "      <td>6</td>\n",
       "      <td>Spring</td>\n",
       "      <td>82</td>\n",
       "    </tr>\n",
       "    <tr>\n",
       "      <th>6</th>\n",
       "      <td>7</td>\n",
       "      <td>Summer</td>\n",
       "      <td>90</td>\n",
       "    </tr>\n",
       "    <tr>\n",
       "      <th>7</th>\n",
       "      <td>8</td>\n",
       "      <td>Summer</td>\n",
       "      <td>86</td>\n",
       "    </tr>\n",
       "    <tr>\n",
       "      <th>8</th>\n",
       "      <td>9</td>\n",
       "      <td>Summer</td>\n",
       "      <td>79</td>\n",
       "    </tr>\n",
       "  </tbody>\n",
       "</table>\n",
       "</div>"
      ],
      "text/plain": [
       "   student_id Semester  total\n",
       "0           1     Fall     85\n",
       "1           2     Fall     78\n",
       "2           3     Fall     92\n",
       "3           4   Spring     88\n",
       "4           5   Spring     75\n",
       "5           6   Spring     82\n",
       "6           7   Summer     90\n",
       "7           8   Summer     86\n",
       "8           9   Summer     79"
      ]
     },
     "execution_count": 21,
     "metadata": {},
     "output_type": "execute_result"
    }
   ],
   "source": [
    "df= pd.DataFrame(x)\n",
    "df"
   ]
  },
  {
   "cell_type": "code",
   "execution_count": 22,
   "id": "575e378d-97df-466d-bebb-c0fe35db0935",
   "metadata": {
    "id": "575e378d-97df-466d-bebb-c0fe35db0935"
   },
   "outputs": [],
   "source": [
    "mod=sm.ols('total ~ Semester',data=df).fit()"
   ]
  },
  {
   "cell_type": "code",
   "execution_count": 24,
   "id": "cab935e4-8712-49b3-8201-e9f7b446c5a0",
   "metadata": {
    "id": "cab935e4-8712-49b3-8201-e9f7b446c5a0"
   },
   "outputs": [
    {
     "data": {
      "text/html": [
       "<div>\n",
       "<style scoped>\n",
       "    .dataframe tbody tr th:only-of-type {\n",
       "        vertical-align: middle;\n",
       "    }\n",
       "\n",
       "    .dataframe tbody tr th {\n",
       "        vertical-align: top;\n",
       "    }\n",
       "\n",
       "    .dataframe thead th {\n",
       "        text-align: right;\n",
       "    }\n",
       "</style>\n",
       "<table border=\"1\" class=\"dataframe\">\n",
       "  <thead>\n",
       "    <tr style=\"text-align: right;\">\n",
       "      <th></th>\n",
       "      <th>df</th>\n",
       "      <th>sum_sq</th>\n",
       "      <th>mean_sq</th>\n",
       "      <th>F</th>\n",
       "      <th>PR(&gt;F)</th>\n",
       "    </tr>\n",
       "  </thead>\n",
       "  <tbody>\n",
       "    <tr>\n",
       "      <th>Semester</th>\n",
       "      <td>2.0</td>\n",
       "      <td>22.222222</td>\n",
       "      <td>11.111111</td>\n",
       "      <td>0.27248</td>\n",
       "      <td>0.77043</td>\n",
       "    </tr>\n",
       "    <tr>\n",
       "      <th>Residual</th>\n",
       "      <td>6.0</td>\n",
       "      <td>244.666667</td>\n",
       "      <td>40.777778</td>\n",
       "      <td>NaN</td>\n",
       "      <td>NaN</td>\n",
       "    </tr>\n",
       "  </tbody>\n",
       "</table>\n",
       "</div>"
      ],
      "text/plain": [
       "           df      sum_sq    mean_sq        F   PR(>F)\n",
       "Semester  2.0   22.222222  11.111111  0.27248  0.77043\n",
       "Residual  6.0  244.666667  40.777778      NaN      NaN"
      ]
     },
     "execution_count": 24,
     "metadata": {},
     "output_type": "execute_result"
    }
   ],
   "source": [
    "avo=k.stats.anova_lm(mod,typ=1)\n",
    "avo"
   ]
  },
  {
   "cell_type": "code",
   "execution_count": null,
   "id": "d53135d4-8642-469e-adc7-cc8665a07a7e",
   "metadata": {
    "id": "d53135d4-8642-469e-adc7-cc8665a07a7e"
   },
   "outputs": [],
   "source": [
    "#Solution only submit in Github"
   ]
  },
  {
   "cell_type": "code",
   "execution_count": null,
   "id": "81d8187f-1a71-40ea-a3ed-6c30f21ad72b",
   "metadata": {
    "id": "81d8187f-1a71-40ea-a3ed-6c30f21ad72b"
   },
   "outputs": [],
   "source": []
  }
 ],
 "metadata": {
  "colab": {
   "provenance": []
  },
  "kernelspec": {
   "display_name": "Python 3 (ipykernel)",
   "language": "python",
   "name": "python3"
  },
  "language_info": {
   "codemirror_mode": {
    "name": "ipython",
    "version": 3
   },
   "file_extension": ".py",
   "mimetype": "text/x-python",
   "name": "python",
   "nbconvert_exporter": "python",
   "pygments_lexer": "ipython3",
   "version": "3.11.7"
  }
 },
 "nbformat": 4,
 "nbformat_minor": 5
}
